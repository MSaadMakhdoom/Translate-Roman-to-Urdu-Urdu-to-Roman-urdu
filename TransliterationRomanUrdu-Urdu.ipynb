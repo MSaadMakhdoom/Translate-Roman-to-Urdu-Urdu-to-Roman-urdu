{
 "cells": [
  {
   "cell_type": "markdown",
   "id": "2071c2a0",
   "metadata": {},
   "source": [
    "# Muhammad Saad\n"
   ]
  },
  {
   "cell_type": "markdown",
   "id": "4e6f4f08",
   "metadata": {},
   "source": [
    "# i191891@nu.edu.pk"
   ]
  },
  {
   "cell_type": "code",
   "execution_count": 1,
   "id": "b04a4b36",
   "metadata": {},
   "outputs": [],
   "source": [
    "import re"
   ]
  },
  {
   "cell_type": "code",
   "execution_count": 2,
   "id": "a5401777",
   "metadata": {},
   "outputs": [
    {
     "name": "stdout",
     "output_type": "stream",
     "text": [
      "اب آئل میں کٹی ہوئی پیاز ڈال کر لائٹ براﺅن کریں پھر لہسن ادرک پیسٹ شامل کر دیں\n",
      "آپ کا دن اچھا گزرے\n",
      "ثقافت اور لوگ بہت دلچسپ تھے۔\n",
      "اس لئے کہتے ہیں دوسروں کو اپنی پرنسل لائف میں بالکل انوالو نہیں کرنا چاہئے\n",
      "ان کے ساتھ جو کچھ مرضی لوگ کر لیں اس کے جواب بالکل نہیں دے سکتے\n",
      "یہی تو میں ان سے بھی کہہ رہا تھ\n",
      "دل توڑ سکتے ہیں اصول نہیں\n",
      "امی نے کہا آئندہ شارٹ کھیلو گے۔ اس بیچارے نے کہا نہیں کھیلوں گا آئندہ شارٹ\n",
      "ایسا لگتا ہے کہ میں ہواﺅں میں ہوں، آج اتنی خوشی ملی\n",
      "جیسا کہ سب نے دیکھا اس ٹیم میں کچھ دم نظر آیا سب نے اچھی پرفارمنس دی\n",
      "وہ یا تو بدتمیز ہو جاتے ہیں یا پھر سہمے ہوئے رہتے ہیں\n",
      "صرف شکلیں پیاری نہیں باتیں بھی اچھی ہونی چاہئے\n",
      "آئی فون 5 سیل کرنا ہے 40000 کا صرف دو منتھ یوز کیا ہے\n"
     ]
    }
   ],
   "source": [
    "f = open('Urdu.txt', encoding='utf-8')\n",
    "w=f.read()\n",
    "print(w)"
   ]
  },
  {
   "cell_type": "markdown",
   "id": "79975cfd",
   "metadata": {},
   "source": [
    "# Transliteration: Urdu to Roman Urdu"
   ]
  },
  {
   "cell_type": "code",
   "execution_count": 3,
   "id": "f6d850dc",
   "metadata": {},
   "outputs": [],
   "source": [
    "URDU_DIACRITICS  = ['ِ', 'ٰ', 'ُ', 'ٍ', 'ً', 'َ']\n",
    "URDU_DIGIT = ['۶', '۴', '۵', '۸', '۲', '۰', '۷', '۹', '۳', '۱']\n",
    "URDU_PUNCTUATIONS = ['\\200F', '\\u200f','؛', '۔', '٫', '٪', '؟', '،', ')', '(', '{', '}']\n",
    "URDU_EXTRA_CHARACTER = [1623,1538, 1617,1537,1551,1539, 1624, 1550,1622,1644,1555,1620,1619,1552,1554,1556,1612,1557,1549,1553,1618,1536]\n",
    "\n",
    "def removing_diacritics(text):\n",
    "    for i in text:\n",
    "        if i in URDU_DIACRITICS:\n",
    "            text = text.replace(i, \"\")\n",
    "    return text\n",
    "\n",
    "\n",
    "def remove_numbers(text):\n",
    "    for i in text:\n",
    "        if i in URDU_DIGIT:\n",
    "            text = text.replace(i, \"\")\n",
    "    return text\n",
    "\n",
    "\n",
    "def removing_extra_character(text):\n",
    "    for i in text:\n",
    "        if ord(i) in URDU_EXTRA_CHARACTER:\n",
    "            text = text.replace(i, \"\")\n",
    "    return text\n",
    "\n",
    "\n",
    "def removing_punctuations(text):\n",
    "    for i in text:\n",
    "        if i in URDU_PUNCTUATIONS:\n",
    "            text = text.replace(i, \"\")\n",
    "    return text\n",
    "\n",
    "\n",
    "def remove_newline_tab_character(text):\n",
    "    regex = re.compile(r\"[\\n\\r\\t]\")\n",
    "    return regex.sub(\"\", text)\n",
    "    \n"
   ]
  },
  {
   "cell_type": "markdown",
   "id": "835963cf",
   "metadata": {},
   "source": [
    "# Unicode Urdu to Roman Urdu Conversion One to One mapping"
   ]
  },
  {
   "cell_type": "code",
   "execution_count": 4,
   "id": "a6276481",
   "metadata": {},
   "outputs": [],
   "source": [
    "unicode_mapping = {\n",
    "            u\"\\u0627\":\"A\",\n",
    "            u\"\\u0627\":\"A\", \n",
    "            u\"\\u0675\":\"A\", \n",
    "            u\"\\u0673\":\"A\", \n",
    "            u\"\\u0630\":\"A\", \n",
    "            u\"\\u0622\":\"AA\", \n",
    "            u\"\\u0628\":\"B\", \n",
    "            u\"\\u067E\":\"P\", \n",
    "            u\"\\u062A\":\"T\", \n",
    "            u\"\\u0637\":\"T\", \n",
    "            u\"\\u0679\":\"T\", \n",
    "            u\"\\u062C\":\"J\", \n",
    "            u\"\\u0633\":\"S\", \n",
    "            u\"\\u062B\":\"S\", \n",
    "            u\"\\u0635\":\"S\", \n",
    "            u\"\\u0686\":\"CH\", \n",
    "            u\"\\u062D\":\"H\", \n",
    "            u\"\\u0647\":\"H\", \n",
    "            u\"\\u0629\":\"H\", \n",
    "            u\"\\u06DF\":\"H\", \n",
    "            u\"\\u062E\":\"KH\", \n",
    "            u\"\\u062F\":\"D\", \n",
    "            u\"\\u0688\":\"D\", \n",
    "            u\"\\u0630\":\"Z\", \n",
    "            u\"\\u0632\":\"Z\", \n",
    "            u\"\\u0636\":\"Z\", \n",
    "            u\"\\u0638\":\"Z\", \n",
    "            u\"\\u068E\":\"Z\", \n",
    "            u\"\\u0631\":\"R\", \n",
    "            u\"\\u0691\":\"R\", \n",
    "            u\"\\u0634\":\"SH\", \n",
    "            u\"\\u063A\":\"GH\", \n",
    "            u\"\\u0641\":\"F\", \n",
    "            u\"\\u06A9\":\"K\", \n",
    "            u\"\\u0642\":\"K\", \n",
    "            u\"\\u06AF\":\"G\", \n",
    "            u\"\\u0644\":\"L\", \n",
    "            u\"\\u0645\":\"M\", \n",
    "            u\"\\u0646\":\"N\", \n",
    "            u\"\\u06BA\":\"N\", \n",
    "            u\"\\u0648\":\"O\", \n",
    "            u\"\\u0649\":\"Y\", \n",
    "            u\"\\u0626\":\"Y\", \n",
    "            u\"\\u06CC\":\"Y\", \n",
    "            \n",
    "            u\"\\u06D2\":\"E\", \n",
    "            u\"\\u06C1\":\"H\",\n",
    "            u\"\\u064A\":\"E\"  ,\n",
    "            u\"\\u06C2\":\"AH\"  ,\n",
    "            u\"\\u06BE\":\"H\"  ,\n",
    "            u\"\\u0639\":\"A\"  ,\n",
    "            u\"\\u0643\":\"K\" ,\n",
    "            u\"\\u0621\":\"A\",\n",
    "            u\"\\u0624\":\"O\",\n",
    "            u\"\\ufe85\":\"O\",\n",
    "            u\"\\u060C\":\"\" #seperator ulta comma\n",
    "}\n",
    "\n",
    "def TranslateString(string, reverse=0):\n",
    "    \n",
    "    for k, v in unicode_mapping.items():\n",
    "        if not reverse:\n",
    "            string = string.replace(k, v)\n",
    "        else:\n",
    "            string = string.replace(v, k)\n",
    "\n",
    "    return string\n",
    "\n"
   ]
  },
  {
   "cell_type": "code",
   "execution_count": 5,
   "id": "35af5c6a",
   "metadata": {},
   "outputs": [],
   "source": [
    "def Urdu_to_RomanUrdu(word):\n",
    "    #Remove Urdu diacritics\n",
    "    word=removing_diacritics(word)\n",
    "   # print('->  Remove Urdu diacritics')\n",
    "   # print(word)\n",
    "    \n",
    "    #Remove urdu number e.g '۶', '۴', '۵', '۸', '۲', '۰', '۷', '۹', '۳', '۱\n",
    "    word=remove_numbers(word)\n",
    "   # print('->  urdu number')\n",
    "   # print(word)\n",
    "    \n",
    "    word=removing_extra_character(word)\n",
    "    #Remove urdu punctuations \n",
    "    word=removing_punctuations(word)\n",
    "   # print('->  Remove urdu punctuations')\n",
    "   # print(word)\n",
    "    \n",
    "    #Remove '\\t','\\n'\n",
    "    word=remove_newline_tab_character(word)\n",
    "    \n",
    "    print(TranslateString(word))\n",
    "   "
   ]
  },
  {
   "cell_type": "code",
   "execution_count": 6,
   "id": "04afe068",
   "metadata": {},
   "outputs": [
    {
     "name": "stdout",
     "output_type": "stream",
     "text": [
      "AB AAYL MYN KTY HOYY PYAZ DAL KR LAYT BRAON KRYN PHR LHSN ADRK PYST SHAML KR DYNAAP KA DN ACHHA GZRESKAFT AOR LOG BHT DLCHSP THEAS LYE KHTE HYN DOSRON KO APNY PRNSL LAYF MYN BALKL ANOALO NHYN KRNA CHAHYEAN KE SATH JO KCHH MRZY LOG KR LYN AS KE JOAB BALKL NHYN DE SKTEYHY TO MYN AN SE BHY KHH RHA THDL TOR SKTE HYN ASOL NHYNAMY NE KHA AAYNDH SHART KHYLO GE AS BYCHARE NE KHA NHYN KHYLON GA AAYNDH SHARTAYSA LGTA HE KH MYN HOAON MYN HON AAJ ATNY KHOSHY MLYJYSA KH SB NE DYKHA AS TYM MYN KCHH DM NZR AAYA SB NE ACHHY PRFARMNS DYOH YA TO BDTMYZ HO JATE HYN YA PHR SHME HOYE RHTE HYNSRF SHKLYN PYARY NHYN BATYN BHY ACHHY HONY CHAHYEAAYY FON 5 SYL KRNA HE 40000 KA SRF DO MNTH YOZ KYA HE\n"
     ]
    }
   ],
   "source": [
    "Urdu_to_RomanUrdu(w)"
   ]
  },
  {
   "cell_type": "markdown",
   "id": "f976805b",
   "metadata": {},
   "source": [
    "# "
   ]
  },
  {
   "cell_type": "markdown",
   "id": "5bda80ce",
   "metadata": {},
   "source": [
    "# Transliteration: Roman Urdu to Urdu"
   ]
  },
  {
   "cell_type": "markdown",
   "id": "3d962c58",
   "metadata": {},
   "source": [
    "# Unicode Roman Urdu to Urdu Conversion One to One mapping¶"
   ]
  },
  {
   "cell_type": "code",
   "execution_count": 7,
   "id": "d91d7b34",
   "metadata": {},
   "outputs": [
    {
     "data": {
      "text/plain": [
       "['surj',\n",
       " 'chand',\n",
       " 'pakistan',\n",
       " 'Jgnoo',\n",
       " 'Bat',\n",
       " 'Ay',\n",
       " 'Say',\n",
       " 'alg',\n",
       " 'Nai',\n",
       " 'Kmal',\n",
       " 'Jana',\n",
       " 'Pr',\n",
       " 'Ja',\n",
       " 'Kay',\n",
       " 'Gi',\n",
       " 'gya',\n",
       " 'Jao',\n",
       " 'Chli',\n",
       " 'Chla',\n",
       " 'Myra',\n",
       " 'Jari',\n",
       " 'Hleem',\n",
       " 'Maiz',\n",
       " 'Kon',\n",
       " 'Psnd',\n",
       " 'Taiz',\n",
       " 'Mkhtlif',\n",
       " 'Dkan',\n",
       " 'Chmk',\n",
       " 'khrab',\n",
       " 'Roti',\n",
       " 'Chumna',\n",
       " 'Roshn',\n",
       " 'Rng',\n",
       " 'Rliyan',\n",
       " 'Khyal',\n",
       " 'Jao',\n",
       " 'Naam',\n",
       " 'Asaan',\n",
       " 'Kamyab',\n",
       " 'Koshish',\n",
       " 'Khub',\n",
       " 'Gya',\n",
       " 'Hkm',\n",
       " 'Istimal',\n",
       " 'Tbadla',\n",
       " 'Sham',\n",
       " 'Chahta',\n",
       " 'Shandar',\n",
       " 'ay',\n",
       " 'pakistan',\n",
       " 'kay',\n",
       " 'logo',\n",
       " 'jago',\n",
       " 'pakistani',\n",
       " 'roshn',\n",
       " 'khyal',\n",
       " 'log',\n",
       " 'Maafi',\n",
       " 'say',\n",
       " 'baarh',\n",
       " 'kay',\n",
       " 'abb',\n",
       " 'raha',\n",
       " 'kiya',\n",
       " 'hay',\n",
       " '.',\n",
       " 'AAP',\n",
       " 'KA',\n",
       " 'DN',\n",
       " 'ACHHA',\n",
       " 'GZRE',\n",
       " '.',\n",
       " 'SKAFT',\n",
       " 'AOR',\n",
       " 'LOG',\n",
       " 'BHT',\n",
       " 'DLCHSP',\n",
       " 'THE',\n",
       " '.',\n",
       " 'OH',\n",
       " 'MJHE',\n",
       " 'APNE',\n",
       " 'NAM',\n",
       " 'KY',\n",
       " 'KHATR',\n",
       " 'SDAKT',\n",
       " 'KY',\n",
       " 'RAHON',\n",
       " 'PR',\n",
       " 'LE',\n",
       " 'CHLTA',\n",
       " 'HE',\n",
       " '.',\n",
       " 'aulad',\n",
       " 'tu',\n",
       " 'sab',\n",
       " 'ek',\n",
       " 'se',\n",
       " 'huti',\n",
       " 'hai',\n",
       " 'maa',\n",
       " 'k',\n",
       " 'liye',\n",
       " '.',\n",
       " 'acha',\n",
       " 'waise',\n",
       " 'es',\n",
       " 'drama',\n",
       " 'ko',\n",
       " 'dekhne',\n",
       " 'k',\n",
       " 'baad',\n",
       " 'sb',\n",
       " 'us',\n",
       " 'larke',\n",
       " 'k',\n",
       " 'pechee',\n",
       " 'pr',\n",
       " 'gayee',\n",
       " 'hain',\n",
       " 'k',\n",
       " 'wo',\n",
       " 'jua',\n",
       " 'khelta',\n",
       " 'he',\n",
       " 'mujhy',\n",
       " 'aap',\n",
       " 'k',\n",
       " 'tabsary',\n",
       " 'b',\n",
       " 'bohat',\n",
       " 'achy',\n",
       " 'lagty',\n",
       " 'hein',\n",
       " '.']"
      ]
     },
     "execution_count": 7,
     "metadata": {},
     "output_type": "execute_result"
    }
   ],
   "source": [
    "f = open('RomanUrdu.txt', encoding='utf-8')\n",
    "word=f.read()\n",
    "word=word.split()\n",
    "word"
   ]
  },
  {
   "cell_type": "code",
   "execution_count": 8,
   "id": "58f0ff92",
   "metadata": {},
   "outputs": [],
   "source": [
    "a=[]\n",
    "for i in word:\n",
    "    a.append(i)"
   ]
  },
  {
   "cell_type": "code",
   "execution_count": 9,
   "id": "f33d898d",
   "metadata": {},
   "outputs": [],
   "source": [
    "buck2uni = {\n",
    "u\"\\u0041\":\"ع\",   #AA\n",
    "u\"\\u0041\\u0041\":\"آ\",   #AA\n",
    "u\"\\u0043\\u0048\":\"چ\",   #CH\n",
    "u\"\\u004b\\u0048\":\"خ\",   #KH\n",
    "u\"\\u0053\\u0048\":\"ش\",   #SH\n",
    "u\"\\u0047\\u0048\":\"غ\" ,   #GH\n",
    "u\"\\u0041\":\"ا\",         #A\n",
    "u\"\\u0042\":\"ب\",        #B\n",
    "u\"\\u0050\":\"پ\",        #P\n",
    "u\"\\u0054\":\"ت\",        #T\n",
    "u\"\\u004a\":\"ج\",        #J\n",
    "u\"\\u0053\":\"س\",        #S\n",
    "#u\"\\u0048\":\"ح\",         #H\n",
    "u\"\\u0048\":\"ہ\",         #H\n",
    "u\"\\u0044\":\"د\",         #D\n",
    "u\"\\u0045\":\"ے\"  ,      #E\n",
    "\n",
    "u\"\\u005a\":\"ذ\",         #Z\n",
    "u\"\\u0052\":\"ر\",         #R\n",
    "\n",
    "\n",
    "u\"\\u0046\":\"ف\",          #F\n",
    "u\"\\u004b\":\"ک\" ,         #K\n",
    "u\"\\u0047\":\"گ\",          #G\n",
    "u\"\\u004c\":\"ل\" ,          #L\n",
    "u\"\\u004d\":\"م\" ,          #M\n",
    "u\"\\u004e\":\"ن\" ,          #N\n",
    "u\"\\u004f\":\"و\" ,          #O\n",
    "u\"\\u0059\":\"ی\"  ,      #Y         \n",
    "\n",
    "u\"\\u060C\":\"\" #seperator ulta comma\n",
    "}\n",
    "\n",
    "def transString(string, reverse=0):\n",
    "    \n",
    "    for k, v in buck2uni.items():\n",
    "        if not reverse:\n",
    "            string = string.replace(k, v)\n",
    "        else:\n",
    "            string = string.replace(v, k)\n",
    "\n",
    "    return string\n",
    "\n"
   ]
  },
  {
   "cell_type": "code",
   "execution_count": 10,
   "id": "a9358251",
   "metadata": {},
   "outputs": [],
   "source": [
    "def remove_consequent_capital_letter_Duplicates(s):\n",
    "    chars = \"\"\n",
    "    prev = None\n",
    "\n",
    "    for c in s:\n",
    "        if (prev == c and (prev.isupper() and c.isupper()) ):\n",
    "            print(\"\")\n",
    "        else:\n",
    "            #chars.append(c)\n",
    "            chars +=c\n",
    "            prev = c\n",
    "\n",
    "\n",
    "    return ''.join(chars) \n"
   ]
  },
  {
   "cell_type": "code",
   "execution_count": 11,
   "id": "e6ac3e12",
   "metadata": {},
   "outputs": [],
   "source": [
    "def RomanUrdu_to_Urdu(w):\n",
    "    #Preprocessing\n",
    "\n",
    "    #convert all letter to lower alphabet\n",
    "    word=w.lower()\n",
    "\n",
    "    #Remove all special character\n",
    "    word=re.sub(r'[^a-zA-Z0-9 ]',r'',word)\n",
    "\n",
    "    # Tokenize each word\n",
    "    #word.split()\n",
    "\n",
    "\n",
    "    # # Rule based character Mapping\n",
    "\n",
    "    #convert all letters into capital cases except ‘y’, ‘h’ and vowels\n",
    "    N = len(word)\n",
    "    w1 =\"\"\n",
    "    for i in range(N):\n",
    "        if (word[i] == 'A' or word[i] == 'E' or word[i] == 'I' or word[i] == 'O' or word[i] == 'U' or word[i] == 'Y' or word[i] == 'H' or  word[i] == 'a' or word[i] == 'e' or word[i] == 'i' or word[i] == 'o' or word[i] == 'u' or word[i] == 'y' or word[i] == 'h'):\n",
    "            c = (word[i]).lower()\n",
    "            w1 += c\n",
    "        else:\n",
    "            w1 += (word[i]).upper()\n",
    "\n",
    "\n",
    "\n",
    "    w1=remove_consequent_capital_letter_Duplicates(w1)\n",
    "\n",
    "    w1=w1.split()\n",
    "\n",
    "\n",
    "    # Append A in start if word is start vowel\n",
    "    w2=[]\n",
    "    vowel = 'aeiou'\n",
    "    # check string starts with vowel or consonant\n",
    "    for i in w1:\n",
    "        if (i[0]).lower() in vowel:\n",
    "            w2.append(\"A\".join(('',i[1:])))\n",
    "        else:\n",
    "            w2.append(i)\n",
    "\n",
    "\n",
    "    # convert all h to H in word\n",
    "    w3=\"\"\n",
    "    for i in w2:\n",
    "        for j in range(len(i)):\n",
    "            if i[j]=='h':\n",
    "                w3+='H'\n",
    "            else:\n",
    "                w3+=i[j]\n",
    "        w3+=' '\n",
    "\n",
    "    w3=w3.split()\n",
    "\n",
    "    #convert ey to Y & ay to E if those are last character of word\n",
    "    w4=[]\n",
    "\n",
    "\n",
    "    for i in w3:\n",
    "        if i[len(i)-2] =='e' and i[len(i)-1] =='y':\n",
    "            #print(i[len(i)-2])\n",
    "            w4.append(\"Y\".join((i[:len(i)-2],'')))\n",
    "        elif i[len(i)-2] =='a' and i[len(i)-1] =='y':\n",
    "            w4.append(\"E\".join((i[:len(i)-2],'')))\n",
    "        else:\n",
    "            w4.append(i)\n",
    "\n",
    "\n",
    "    #convert ey to Y & ay to E if those are last character of word\n",
    "    w5=[]\n",
    "\n",
    "\n",
    "    for i in w4:\n",
    "        if (i[len(i)-2] =='e' and i[len(i)-1] =='y') or (i[len(i)-2] =='a' and i[len(i)-1] =='y'):\n",
    "            #print(i[len(i)-2])\n",
    "            w5.append(\"Y\".join((i[:len(i)-2],'')))\n",
    "        else:\n",
    "            w5.append(i)\n",
    "\n",
    "            \n",
    "    # convert all y to Y in word\n",
    "    w6=\"\"\n",
    "    for i in w5:\n",
    "        for j in range(len(i)):\n",
    "            if i[j]=='y':\n",
    "                w6+='Y'\n",
    "            else:\n",
    "                w6+=i[j]\n",
    "        w6+=' '\n",
    "\n",
    "\n",
    "    w6=w6.split()\n",
    "\n",
    "\n",
    "    #convert ai to E & ei to E if those are last character of word\n",
    "    w7=[]\n",
    "\n",
    "\n",
    "    for i in w6:\n",
    "        if (i[len(i)-2] =='a' and i[len(i)-1] =='i') or (i[len(i)-2] =='e' and i[len(i)-1] =='i'):\n",
    "            #print(i[len(i)-2])\n",
    "            w7.append(\"E\".join((i[:len(i)-2],'')))\n",
    "        else:\n",
    "            w7.append(i)\n",
    "\n",
    "\n",
    "    text_data=\"\"\n",
    "    for i in w7:\n",
    "        for j in range(len(i)):\n",
    "            text_data+=i[j]\n",
    "        text_data+=' '\n",
    "\n",
    "    # replace letter aa -> A , ai -> Y , ei -> Y , ee -> Y , ie -> Y , oo -> O , au -> O , ou -> O\n",
    "    text_data=text_data.replace(\"aa\",\"A\")  \n",
    "    text_data=text_data.replace(\"ai\",\"Y\")\n",
    "    text_data=text_data.replace(\"ei\",\"Y\")\n",
    "    text_data=text_data.replace(\"ee\",\"Y\")\n",
    "    text_data=text_data.replace(\"ie\",\"Y\")\n",
    "    text_data=text_data.replace(\"oo\",\"O\")\n",
    "    text_data=text_data.replace(\"au\",\"O\")\n",
    "    text_data=text_data.replace(\"ou\",\"O\")\n",
    "\n",
    "\n",
    "\n",
    "    w8=[]\n",
    "\n",
    "\n",
    "    for i in text_data:\n",
    "        if i[len(i)-1] =='e':\n",
    "            w8.append(\"E\".join((i[:len(i)-1],'')))\n",
    "        elif  i[len(i)-1] =='a':\n",
    "            w8.append(\"A\".join((i[:len(i)-1],'')))\n",
    "        elif  i[len(i)-1] =='i':\n",
    "            w8.append(\"Y\".join((i[:len(i)-1],'')))\n",
    "        elif  i[len(i)-1] =='u':\n",
    "            w8.append(\"O\".join((i[:len(i)-1],'')))\n",
    "        else:\n",
    "            w8.append(i)\n",
    "\n",
    "\n",
    "    string=\"\"\n",
    "    for i in w8:\n",
    "        for j in range(len(i)):\n",
    "            string+=i[j]\n",
    "\n",
    "\n",
    "\n",
    "    #Replace vowel \n",
    "    string=string.replace(\"a\",\"A\")  \n",
    "    string=string.replace(\"e\",\"E\")\n",
    "    string=string.replace(\"i\",\"Y\")\n",
    "    string=string.replace(\"o\",\"O\")\n",
    "    string=string.replace(\"u\",\"O\")\n",
    "    string=string.replace(\"h\",\"H\")\n",
    "    \n",
    "    string=string.replace(\"Q\",\"K\")\n",
    "    string=string.replace(\"AW\",\"O\")\n",
    "    string=string.replace(\"W\",\"O\")\n",
    "    string=string.replace(\"X\",\"K\")\n",
    "    return transString(string)\n"
   ]
  },
  {
   "cell_type": "code",
   "execution_count": 12,
   "id": "941ed584",
   "metadata": {},
   "outputs": [
    {
     "name": "stdout",
     "output_type": "stream",
     "text": [
      "سورج \n",
      "چاند \n",
      "پاکیستان \n",
      "جگنو \n",
      "بات \n",
      "ای \n",
      "سے \n",
      "الگ \n",
      "نے \n",
      "کمال \n",
      "جانا \n",
      "پر \n",
      "جا \n",
      "کے \n",
      "گی \n",
      "گیا \n",
      "جاو \n",
      "چلی \n",
      "چلا \n",
      "میرا \n",
      "جاری \n",
      "ہلیم \n",
      "میذ \n",
      "کون \n",
      "پسند \n",
      "تیذ \n",
      "مختلیف \n",
      "دکان \n",
      "چمک \n",
      "خراب \n",
      "روتی \n",
      "چومنا \n",
      "روشن \n",
      "رنگ \n",
      "رلییان \n",
      "خیال \n",
      "جاو \n",
      "نام \n",
      "اسان \n",
      "کامیاب \n",
      "کوشیش \n",
      "خوب \n",
      "گیا \n",
      "ہکم \n",
      "استیمال \n",
      "تبادلا \n",
      "شام \n",
      "چاہتا \n",
      "شاندار \n",
      "ای \n",
      "پاکیستان \n",
      "کے \n",
      "لوگو \n",
      "جاگو \n",
      "پاکیستانی \n",
      "روشن \n",
      "خیال \n",
      "لوگ \n",
      "مافی \n",
      "سے \n",
      "بارہ \n",
      "کے \n",
      "\n",
      "اب \n",
      "راہا \n",
      "کییا \n",
      "ہے \n",
      "\n",
      "ااپ \n",
      "کا \n",
      "دن \n",
      "اچہا \n",
      "گذرے \n",
      "\n",
      "سکافت \n",
      "اور \n",
      "لوگ \n",
      "بہت \n",
      "دلچسپ \n",
      "تہے \n",
      "\n",
      "اہ \n",
      "مجہے \n",
      "اپنے \n",
      "نام \n",
      "کی \n",
      "خاتر \n",
      "سداکت \n",
      "کی \n",
      "راہون \n",
      "پر \n",
      "لے \n",
      "چلتا \n",
      "ہے \n",
      "\n",
      "اولاد \n",
      "تو \n",
      "ساب \n",
      "اک \n",
      "سے \n",
      "ہوتی \n",
      "ہے \n",
      "ما \n",
      "ک \n",
      "لییے \n",
      "\n",
      "اچا \n",
      "ویسے \n",
      "اس \n",
      "دراما \n",
      "کو \n",
      "دےخنے \n",
      "ک \n",
      "باد \n",
      "سب \n",
      "اس \n",
      "لارکے \n",
      "ک \n",
      "پےچی \n",
      "پر \n",
      "گایی \n",
      "ہین \n",
      "ک \n",
      "وو \n",
      "جوا \n",
      "خےلتا \n",
      "ہے \n",
      "موجہی \n",
      "ااپ \n",
      "ک \n",
      "تابساری \n",
      "ب \n",
      "بوہات \n",
      "اچی \n",
      "لاگتی \n",
      "ہین \n",
      "\n"
     ]
    }
   ],
   "source": [
    "for i in a:\n",
    "    print(RomanUrdu_to_Urdu(i))"
   ]
  },
  {
   "cell_type": "code",
   "execution_count": 13,
   "id": "c491be65",
   "metadata": {},
   "outputs": [
    {
     "name": "stdout",
     "output_type": "stream",
     "text": [
      "\n"
     ]
    },
    {
     "data": {
      "text/plain": [
       "'مافی سے بارہ کے اب راہا کیا ہے '"
      ]
     },
     "execution_count": 13,
     "metadata": {},
     "output_type": "execute_result"
    }
   ],
   "source": [
    "word=\"Maafi say baarh kay abb raha kya hay?\"\n",
    "RomanUrdu_to_Urdu(word)"
   ]
  },
  {
   "cell_type": "code",
   "execution_count": 14,
   "id": "44bdf862",
   "metadata": {},
   "outputs": [
    {
     "data": {
      "text/plain": [
       "'ای پاکیستان کے لوگو جاگو '"
      ]
     },
     "execution_count": 14,
     "metadata": {},
     "output_type": "execute_result"
    }
   ],
   "source": [
    "word=\"Ay Pakistan kay logo jago\"\n",
    "RomanUrdu_to_Urdu(word)"
   ]
  },
  {
   "cell_type": "code",
   "execution_count": 15,
   "id": "66779595",
   "metadata": {},
   "outputs": [
    {
     "data": {
      "text/plain": [
       "'مےہنت کرنا لاذمی ہے '"
      ]
     },
     "execution_count": 15,
     "metadata": {},
     "output_type": "execute_result"
    }
   ],
   "source": [
    "word=\"Mehnt krna lazmi hay\"\n",
    "RomanUrdu_to_Urdu(word)"
   ]
  },
  {
   "cell_type": "code",
   "execution_count": 16,
   "id": "5d618e36",
   "metadata": {},
   "outputs": [
    {
     "data": {
      "text/plain": [
       "'کیا اپ جانتا ہو لوگ کیسی کے نہی ہوتے جو دوست اور ریشتی کو لاباس کی تارہا بدالتے ہین '"
      ]
     },
     "execution_count": 16,
     "metadata": {},
     "output_type": "execute_result"
    }
   ],
   "source": [
    "word=\"Kya ap janta ho Log kisi kay Nhi hotay Jo Dost aor Rishty ko Labas ki tarha bdaltay hain\"\n",
    "RomanUrdu_to_Urdu(word)"
   ]
  },
  {
   "cell_type": "code",
   "execution_count": 17,
   "id": "b947088e",
   "metadata": {},
   "outputs": [
    {
     "data": {
      "text/plain": [
       "'یانی ہر 5 منت لیغت استیمال کرے اور 55 منت تک بجلی کی شاندار بچت ہاسل کرےن ووہ بہی بلکول فری '"
      ]
     },
     "execution_count": 17,
     "metadata": {},
     "output_type": "execute_result"
    }
   ],
   "source": [
    "word=\"Yani Hr 5 Mnt Light istimal kray Aur 55 Mnt Tk Bjli ki Shandar Bcht Hasl kren woh Bhi Blkul Free\"\n",
    "RomanUrdu_to_Urdu(word)"
   ]
  },
  {
   "cell_type": "code",
   "execution_count": 18,
   "id": "7e70021e",
   "metadata": {},
   "outputs": [
    {
     "data": {
      "text/plain": [
       "'بیک ا واش کرتے واکات کوشیش کرکے متر یا ہےادلیغت کی جو ویرینگ ہے اس پار کم واتےر اسے کرو '"
      ]
     },
     "execution_count": 18,
     "metadata": {},
     "output_type": "execute_result"
    }
   ],
   "source": [
    "word=\"bik e wash krtay waqat koshish krke mtr ya headlight ki jo wiring hai us par km water use kro\"\n",
    "RomanUrdu_to_Urdu(word)"
   ]
  },
  {
   "cell_type": "code",
   "execution_count": 19,
   "id": "c28dbdfb",
   "metadata": {},
   "outputs": [
    {
     "name": "stdout",
     "output_type": "stream",
     "text": [
      "\n"
     ]
    },
    {
     "data": {
      "text/plain": [
       "'ابہی 1234 پے تےکت کار کا ہار نومبےر ک لییے الگ افونے مےساگے سےت کارین '"
      ]
     },
     "execution_count": 19,
     "metadata": {},
     "output_type": "execute_result"
    }
   ],
   "source": [
    "word=\"Abhi 1234 pai text kar ka har number k liye alg Ufone message set karein\"\n",
    "RomanUrdu_to_Urdu(word)"
   ]
  },
  {
   "cell_type": "code",
   "execution_count": 20,
   "id": "a161dc5e",
   "metadata": {},
   "outputs": [
    {
     "data": {
      "text/plain": [
       "'اچا ااپ کے جواب سے اییک Cونفیرماتیون ہو گے '"
      ]
     },
     "execution_count": 20,
     "metadata": {},
     "output_type": "execute_result"
    }
   ],
   "source": [
    "word=\"acha aap ke jawab se aiik confirmation ho gai\"\n",
    "RomanUrdu_to_Urdu(word)"
   ]
  },
  {
   "cell_type": "code",
   "execution_count": 21,
   "id": "b94f9442",
   "metadata": {},
   "outputs": [
    {
     "data": {
      "text/plain": [
       "'اس کی فالاک بوس امارت ساییاہون کی دیلچاسپی کا بییس ہین شےہار کی اابادی 2 Cرورے سے تاجووذ کار چوکی ہے '"
      ]
     },
     "execution_count": 21,
     "metadata": {},
     "output_type": "execute_result"
    }
   ],
   "source": [
    "word=\"Is ki falak bos imart sayyahon ki dilchaspi ka baiys hain. Shehar ki aabadi 2 crore se tajawuz kar chuki hai.\"\n",
    "RomanUrdu_to_Urdu(word)"
   ]
  },
  {
   "cell_type": "code",
   "execution_count": null,
   "id": "d2059226",
   "metadata": {},
   "outputs": [],
   "source": []
  },
  {
   "cell_type": "code",
   "execution_count": null,
   "id": "783e2ff9",
   "metadata": {},
   "outputs": [],
   "source": []
  }
 ],
 "metadata": {
  "kernelspec": {
   "display_name": "Python 3 (ipykernel)",
   "language": "python",
   "name": "python3"
  },
  "language_info": {
   "codemirror_mode": {
    "name": "ipython",
    "version": 3
   },
   "file_extension": ".py",
   "mimetype": "text/x-python",
   "name": "python",
   "nbconvert_exporter": "python",
   "pygments_lexer": "ipython3",
   "version": "3.9.7"
  }
 },
 "nbformat": 4,
 "nbformat_minor": 5
}
